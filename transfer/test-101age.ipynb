{
 "cells": [
  {
   "cell_type": "code",
   "execution_count": 1,
   "metadata": {},
   "outputs": [],
   "source": [
    "import CNN2Head_input2 as CNN2Head_input\n",
    "import tensorflow as tf\n",
    "import numpy as np\n",
    "import BKNetStyle2 as BKNetStyle\n",
    "from const import *\n",
    "import cv2\n",
    "\n",
    "from IPython.display import Image, display\n",
    "from mtcnn.mtcnn import MTCNN\n",
    "from matplotlib import pyplot as plt"
   ]
  },
  {
   "cell_type": "code",
   "execution_count": 2,
   "metadata": {},
   "outputs": [],
   "source": [
    "import os\n",
    "from skimage import io\n",
    "import instaloader\n",
    "from instaloader import *\n",
    "import urllib.request\n",
    "import pickle"
   ]
  },
  {
   "cell_type": "code",
   "execution_count": 4,
   "metadata": {},
   "outputs": [],
   "source": [
    "def predict(PATH, post):\n",
    "    PATH1 = PATH + post\n",
    "    post = load_structure_from_file(L.context, PATH1)\n",
    "    img = io.imread(post.url)\n",
    "    #print(post.url)\n",
    "    #urllib.request.urlretrieve(post.url, \"/scratch/jamaalhay/PostsNew/00000001.jpg\")\n",
    "    #PATH = PATH + \"00000001.jpg\"\n",
    "    #display(Image(filename = PATH, width=100, height=100))\n",
    "    count_s = 0\n",
    "    count_g = 0\n",
    "    result = detector.detect_faces(img)\n",
    "    face_position = result[0].get('box')\n",
    "    x_coordinate = face_position[0]\n",
    "    y_coordinate = face_position[1]\n",
    "    w_coordinate = face_position[2]\n",
    "    h_coordinate = face_position[3]\n",
    "    img = img[y_coordinate:y_coordinate+h_coordinate, x_coordinate:x_coordinate+w_coordinate]\n",
    "    img = cv2.cvtColor(img, cv2.COLOR_BGR2GRAY)\n",
    "    img = cv2.resize(img,(48, 48))\n",
    "    img = (img - 128) / 255.0\n",
    "    T = np.zeros([48, 48, 1])\n",
    "    T[:, :, 0] = img\n",
    "    test_img = []\n",
    "    test_img.append(T)\n",
    "    test_img = np.asarray(test_img)\n",
    "    for i in range(30):\n",
    "        init = tf.global_variables_initializer()\n",
    "        sess.run(init)\n",
    "        predict_y_smile_conv = sess.run(y_smile_conv, feed_dict={x: test_img, phase_train: False, keep_prob: 1})\n",
    "        predict_y_gender_conv = sess.run(y_gender_conv, feed_dict={x: test_img, phase_train: False, keep_prob: 1})\n",
    "        predict_y_age_conv = sess.run(y_age_conv, feed_dict={x: test_img, phase_train: False, keep_prob: 1})\n",
    "        smile_label = \"No\" if np.argmax(predict_y_smile_conv)==0 else \"Yes\"\n",
    "        gender_label = \"Female\" if np.argmax(predict_y_gender_conv)==0 else \"Male\"\n",
    "        if smile_label == \"Yes\":\n",
    "            count_s += 1\n",
    "        if count_s >= 15:\n",
    "            smile_label = \"Yes\"\n",
    "        else:\n",
    "            smile_label = \"No\"\n",
    "        if gender_label == \"Male\":\n",
    "            count_g += 1\n",
    "        if count_g >= 15:\n",
    "            gender_label = \"Male\"\n",
    "        else:\n",
    "            gender_label = \"Female\"\n",
    "    return smile_label, gender_label"
   ]
  },
  {
   "cell_type": "code",
   "execution_count": 5,
   "metadata": {},
   "outputs": [
    {
     "name": "stdout",
     "output_type": "stream",
     "text": [
      "WARNING:tensorflow:From /home1/j/jamaalh/mini/lib/python3.7/site-packages/tensorflow/python/framework/op_def_library.py:263: colocate_with (from tensorflow.python.framework.ops) is deprecated and will be removed in a future version.\n",
      "Instructions for updating:\n",
      "Colocations handled automatically by placer.\n",
      "WARNING:tensorflow:From /scratch/jamaalhay/multi-task-learning-master/BKNetStyle2.py:37: calling dropout (from tensorflow.python.ops.nn_ops) with keep_prob is deprecated and will be removed in a future version.\n",
      "Instructions for updating:\n",
      "Please use `rate` instead of `keep_prob`. Rate should be set to `rate = 1 - keep_prob`.\n"
     ]
    }
   ],
   "source": [
    "x, y_, mask = BKNetStyle.Input()\n",
    "\n",
    "y_smile_conv, y_gender_conv, y_age_conv, phase_train, keep_prob = BKNetStyle.BKNetModel(x)"
   ]
  },
  {
   "cell_type": "code",
   "execution_count": 6,
   "metadata": {},
   "outputs": [
    {
     "name": "stdout",
     "output_type": "stream",
     "text": [
      "Restore model\n",
      "WARNING:tensorflow:From /home1/j/jamaalh/mini/lib/python3.7/site-packages/tensorflow/python/training/saver.py:1266: checkpoint_exists (from tensorflow.python.training.checkpoint_management) is deprecated and will be removed in a future version.\n",
      "Instructions for updating:\n",
      "Use standard file APIs to check for files with this prefix.\n",
      "INFO:tensorflow:Restoring parameters from ./save/current6/model-age101.ckpt\n",
      "OK\n"
     ]
    }
   ],
   "source": [
    "\n",
    "smile_loss, gender_loss, age_loss, l2_loss, loss = BKNetStyle.selective_loss(y_smile_conv, y_gender_conv,\n",
    "                                                                             y_age_conv, y_, mask)\n",
    "sess = tf.InteractiveSession()\n",
    "print('Restore model')\n",
    "with tf.Session() as sess1:\n",
    "    saver = tf.train.Saver()\n",
    "    saver = tf.train.import_meta_graph('./save/current6/model-age101.ckpt.meta')\n",
    "    saver.restore(sess1, './save/current6/model-age101.ckpt')\n",
    "print('OK')\n"
   ]
  },
  {
   "cell_type": "code",
   "execution_count": 7,
   "metadata": {},
   "outputs": [
    {
     "name": "stdout",
     "output_type": "stream",
     "text": [
      "WARNING:tensorflow:From /home1/j/jamaalh/mini/lib/python3.7/site-packages/mtcnn/layer_factory.py:211: calling reduce_max_v1 (from tensorflow.python.ops.math_ops) with keep_dims is deprecated and will be removed in a future version.\n",
      "Instructions for updating:\n",
      "keep_dims is deprecated, use keepdims instead\n",
      "WARNING:tensorflow:From /home1/j/jamaalh/mini/lib/python3.7/site-packages/mtcnn/layer_factory.py:213: calling reduce_sum_v1 (from tensorflow.python.ops.math_ops) with keep_dims is deprecated and will be removed in a future version.\n",
      "Instructions for updating:\n",
      "keep_dims is deprecated, use keepdims instead\n",
      "WARNING:tensorflow:From /home1/j/jamaalh/mini/lib/python3.7/site-packages/mtcnn/layer_factory.py:214: div (from tensorflow.python.ops.math_ops) is deprecated and will be removed in a future version.\n",
      "Instructions for updating:\n",
      "Deprecated in favor of operator or tf.math.divide.\n"
     ]
    }
   ],
   "source": [
    "detector = MTCNN()"
   ]
  },
  {
   "cell_type": "code",
   "execution_count": 38,
   "metadata": {},
   "outputs": [],
   "source": []
  },
  {
   "cell_type": "code",
   "execution_count": 10,
   "metadata": {},
   "outputs": [],
   "source": [
    "posts = os.listdir('/scratch/jamaalhay/PostsNew')\n"
   ]
  },
  {
   "cell_type": "code",
   "execution_count": 8,
   "metadata": {},
   "outputs": [],
   "source": [
    "L = instaloader.Instaloader()"
   ]
  },
  {
   "cell_type": "code",
   "execution_count": 12,
   "metadata": {
    "scrolled": false
   },
   "outputs": [],
   "source": [
    "dictt = {}\n",
    "count = 0\n",
    "for post in posts:\n",
    "    count += 1\n",
    "    if count % 100 == 1:\n",
    "        print(count)\n",
    "    smile, gender = predict('/scratch/jamaalhay/PostsNew/', post)\n",
    "    dictt[post[:-5]] = [smile, gender]"
   ]
  },
  {
   "cell_type": "code",
   "execution_count": 13,
   "metadata": {},
   "outputs": [
    {
     "name": "stdout",
     "output_type": "stream",
     "text": [
      "1738166964353067210 ['Yes', 'Female']\n"
     ]
    }
   ],
   "source": [
    "pickle.dump(dictt, open( \"save_smile.p\", \"wb\" ) )"
   ]
  },
  {
   "cell_type": "code",
   "execution_count": null,
   "metadata": {},
   "outputs": [],
   "source": []
  }
 ],
 "metadata": {
  "kernelspec": {
   "display_name": "Python 3",
   "language": "python",
   "name": "python3"
  },
  "language_info": {
   "codemirror_mode": {
    "name": "ipython",
    "version": 3
   },
   "file_extension": ".py",
   "mimetype": "text/x-python",
   "name": "python",
   "nbconvert_exporter": "python",
   "pygments_lexer": "ipython3",
   "version": "3.7.1"
  }
 },
 "nbformat": 4,
 "nbformat_minor": 2
}
