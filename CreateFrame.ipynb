{
 "cells": [
  {
   "cell_type": "code",
   "execution_count": 186,
   "metadata": {
    "collapsed": true
   },
   "outputs": [],
   "source": [
    "import cv2\n",
    "import numpy as np\n",
    "import matplotlib.pyplot as plt\n",
    "from sklearn.cluster import KMeans\n",
    "import urllib\n",
    "import instaloader\n",
    "from instaloader import *\n",
    "from skimage import io\n",
    "import os\n",
    "from PIL import *\n",
    "import requests\n",
    "from io import BytesIO\n",
    "import PIL.ImageStat\n",
    "import pickle \n",
    "import Algorithmia\n",
    "import pandas as pd\n",
    "import math"
   ]
  },
  {
   "cell_type": "code",
   "execution_count": 66,
   "metadata": {
    "collapsed": true
   },
   "outputs": [],
   "source": [
    "#detection = pickle.load( open( \"save_objectDetect.p\", \"rb\" ) )\n",
    "#blur = pickle.load( open( \"save_blur.p\", \"rb\" ) )\n",
    "#bright = pickle.load( open( \"save_brightness.p\", \"rb\" ) )\n",
    "#styles = pickle.load( open( \"save_style.p\", \"rb\" ) )\n",
    "#labels = pickle.load( open( \"save_labels.p\", \"rb\" ) )\n",
    "#colours = pickle.load( open( \"save_colours.p\", \"rb\" ) )\n",
    "#smile = pickle.load( open( \"save_smile.p\", \"rb\" ) )\n",
    "#meta = pickle.load( open( \"save_meta.p\", \"rb\" ) )"
   ]
  },
  {
   "cell_type": "code",
   "execution_count": 8,
   "metadata": {
    "collapsed": true
   },
   "outputs": [],
   "source": [
    "L = instaloader.Instaloader()"
   ]
  },
  {
   "cell_type": "code",
   "execution_count": 16,
   "metadata": {},
   "outputs": [
    {
     "name": "stdout",
     "output_type": "stream",
     "text": [
      "https://scontent-iad3-1.cdninstagram.com/vp/ed7c858eedc11a5b5955d2b0e3cf3239/5D34ECC1/t51.2885-15/e35/53002300_1968975106548759_6494598237787167619_n.jpg?_nc_ht=scontent-iad3-1.cdninstagram.com\n"
     ]
    }
   ],
   "source": [
    "post = load_structure_from_file(L.context, \"PostsNew/\" + str(keys[10]) + \".json\")\n",
    "print(post.url)"
   ]
  },
  {
   "cell_type": "code",
   "execution_count": 106,
   "metadata": {
    "collapsed": true
   },
   "outputs": [],
   "source": [
    "#df = pd.DataFrame()\n",
    "# df['keys'] = detection.keys()\n",
    "# df['detection'] = detection.values()"
   ]
  },
  {
   "cell_type": "code",
   "execution_count": 83,
   "metadata": {
    "collapsed": true
   },
   "outputs": [],
   "source": [
    "# vals = []\n",
    "# count += 1\n",
    "# for key in blur:\n",
    "#     if blur[key] == 'Not Blurry':\n",
    "#         blur[key] = 0\n",
    "#     else:\n",
    "#         blur[key] = 1"
   ]
  },
  {
   "cell_type": "code",
   "execution_count": 99,
   "metadata": {
    "collapsed": true
   },
   "outputs": [],
   "source": [
    "#df1 = pd.DataFrame()\n",
    "# vals = []\n",
    "# count += 1\n",
    "# for key in blur:\n",
    "#     if blur[key] == 'Not Blurry':\n",
    "#         blur[key] = 0\n",
    "#     else:\n",
    "#         blur[key] = 1\n",
    "# df1['keys'] = blur.keys()\n",
    "# #df1.set_index('keys')\n",
    "# df1['blur'] = blur.values()\n",
    "# df1\n",
    "# df1 = df1.apply(pd.to_numeric)\n",
    "# df2 = df.merge(df1, on='keys')"
   ]
  },
  {
   "cell_type": "code",
   "execution_count": 103,
   "metadata": {
    "collapsed": true
   },
   "outputs": [],
   "source": [
    "#df1 = pd.DataFrame()\n",
    "# df1['keys'] = bright.keys()\n",
    "# df1['brightness'] = bright.values()\n",
    "# df1 = df1.apply(pd.to_numeric)\n",
    "# df2 = df2.merge(df1, on='keys')"
   ]
  },
  {
   "cell_type": "code",
   "execution_count": 139,
   "metadata": {
    "collapsed": true
   },
   "outputs": [],
   "source": [
    "##STYLES AUGMENTATION\n",
    "# dfstyle = pd.DataFrame()\n",
    "\n",
    "#stylelist = []\n",
    "# for val in styles.values():\n",
    "#     s1 = val['style-1']\n",
    "#     s2 = val['style-2']\n",
    "#     s3 = val['style-3']\n",
    "#     if s1 not in count:\n",
    "#         stylelist.append(s1)\n",
    "#     if s2 not in count:\n",
    "#         stylelist.append(s2)\n",
    "#     if s3 not in count:\n",
    "#         stylelist.append(s3)    \n",
    "# for key in styles.keys():\n",
    "#     dictt = {}\n",
    "#     for style in stylelist:\n",
    "#         count = 0\n",
    "#         dictt['keys'] = str(key)\n",
    "#         if styles[key]['style-1'] == style:\n",
    "#             dictt[style] = 1\n",
    "#         else:\n",
    "#             if styles[key]['style-2'] == style:\n",
    "#                 dictt[style] = 1\n",
    "#             else:\n",
    "#                 if styles[key]['style-3'] == style:\n",
    "#                     dictt[style] = 1 \n",
    "#                 else:\n",
    "#                     dictt[style] = 0\n",
    "#     dfstyle = dfstyle.append(dictt, ignore_index=True)\n",
    "    "
   ]
  },
  {
   "cell_type": "code",
   "execution_count": 142,
   "metadata": {
    "collapsed": true
   },
   "outputs": [],
   "source": [
    "# df2['keys'] = df2['keys'].astype(str)\n",
    "# df3 = df2.merge(dfstyle, on='keys')"
   ]
  },
  {
   "cell_type": "code",
   "execution_count": 129,
   "metadata": {
    "collapsed": true
   },
   "outputs": [],
   "source": [
    "##Colours Augmentation\n",
    "# dfn = pd.DataFrame()\n",
    "# for key in colours.keys():\n",
    "#     row = pd.DataFrame({'keys': [key], \n",
    "#                     'col1P': [colours[key]['col1'][0]],\n",
    "#                     'col1Num1' : [colours[key]['col1'][1][0]],\n",
    "#                     'col1Num2' : [colours[key]['col1'][1][1]],\n",
    "#                     'col1Num3' : [colours[key]['col1'][1][2]],\n",
    "#                     'col2P' : [colours[key]['col2'][0]],\n",
    "#                     'col2Num1' : [colours[key]['col2'][1][0]],\n",
    "#                     'col2Num2' : [colours[key]['col2'][1][1]],\n",
    "#                     'col2Num3' : [colours[key]['col2'][1][2]],\n",
    "#                     'col3P' : [colours[key]['col3'][0]],\n",
    "#                     'col3Num1' : [colours[key]['col3'][1][0]],\n",
    "#                     'col3Num2' : [colours[key]['col3'][1][1]],\n",
    "#                     'col3Num3' : [colours[key]['col3'][1][2]],\n",
    "#                    })\n",
    "#     dfn = dfn.append(row)\n",
    "# dfn\n"
   ]
  },
  {
   "cell_type": "code",
   "execution_count": 156,
   "metadata": {
    "collapsed": true
   },
   "outputs": [],
   "source": [
    "##SMILE DATA AUGMENTATION\n",
    "# for key in smile.keys():\n",
    "#     if smile[key] == 'Yes':\n",
    "#         smile[key] = 1\n",
    "#     if smile[key] == 'No':\n",
    "#         smile[key] = 0\n",
    "# lists = []\n",
    "# for key in df3['keys']:\n",
    "#     if key not in smile.keys():\n",
    "#         smile[key] = 2\n",
    "        \n",
    "# dfsmile = pd.DataFrame()\n",
    "# dfsmile['keys'] = smile.keys()\n",
    "# dfsmile['keys'] = dfsmile['keys'].astype(str)\n",
    "# dfsmile['smile'] = smile.values()\n",
    "# df4 = df3.merge(dfsmile, on='keys')\n"
   ]
  },
  {
   "cell_type": "code",
   "execution_count": 163,
   "metadata": {
    "collapsed": true
   },
   "outputs": [],
   "source": [
    "##METADATAAUGMENTATION\n",
    "# dfmeta = pd.DataFrame()\n",
    "# for key in meta.keys():\n",
    "#     dic = meta[key]\n",
    "#     dic['keys'] = str(key)\n",
    "# for key in meta.keys():\n",
    "#     dfmeta = dfmeta.append(meta[key], ignore_index=True)\n",
    "# df5 = df4.merge(dfmeta, on='keys')"
   ]
  },
  {
   "cell_type": "code",
   "execution_count": 165,
   "metadata": {
    "collapsed": true
   },
   "outputs": [],
   "source": [
    "##LABEL ADDITION\n",
    "# dflabels = pd.DataFrame()\n",
    "# for key in labels.keys():\n",
    "#     dic = labels[key]\n",
    "#     dic['keys'] = str(key)\n",
    "# for key in labels.keys():\n",
    "#     dflabels = dflabels.append(labels[key], ignore_index=True)\n",
    "# dflabels = pd.DataFrame()\n",
    "# dflabels['keys'] = labels.keys()\n",
    "# dflabels['keys'] = dflabels['keys'].astype(str)\n",
    "# dflabels['label'] = labels.values()\n",
    "# dfFinal = df5.merge(dflabels, on='keys')"
   ]
  },
  {
   "cell_type": "code",
   "execution_count": 167,
   "metadata": {
    "collapsed": true
   },
   "outputs": [],
   "source": [
    "#pickle.dump( dfFinal, open( \"save_frame.p\", \"wb\" ) )"
   ]
  },
  {
   "cell_type": "code",
   "execution_count": 185,
   "metadata": {},
   "outputs": [],
   "source": [
    "lists = list(dfn.columns)\n",
    "lists.append('brightness')\n",
    "lists.append('capLen')\n",
    "lists.extend(['detection', 'numHash', 'capMen'])\n",
    "lists.remove('keys')"
   ]
  },
  {
   "cell_type": "code",
   "execution_count": 182,
   "metadata": {
    "collapsed": true
   },
   "outputs": [],
   "source": [
    "for val in lists:\n",
    "    new = []\n",
    "    col = dfFinal[val]\n",
    "    for i in col:\n",
    "        new.append((i - np.min(col))/(np.max(col) - np.min(col)))\n",
    "    dfFinal[val] = new"
   ]
  },
  {
   "cell_type": "code",
   "execution_count": 189,
   "metadata": {},
   "outputs": [],
   "source": [
    "lists = []\n",
    "for val in lists:\n",
    "    new = []\n",
    "    col = dfFinal[val]\n",
    "    for i in col:\n",
    "        new.append(math.sin(i) * math.pi/ 12)\n",
    "    dfFinal[val] = new\n"
   ]
  },
  {
   "cell_type": "code",
   "execution_count": 200,
   "metadata": {},
   "outputs": [],
   "source": [
    "pickle.dump( dfFinal2, open( \"save_frame2.p\", \"wb\" ) )"
   ]
  },
  {
   "cell_type": "code",
   "execution_count": null,
   "metadata": {
    "collapsed": true
   },
   "outputs": [],
   "source": []
  }
 ],
 "metadata": {
  "kernelspec": {
   "display_name": "Python 3",
   "language": "python",
   "name": "python3"
  },
  "language_info": {
   "codemirror_mode": {
    "name": "ipython",
    "version": 3
   },
   "file_extension": ".py",
   "mimetype": "text/x-python",
   "name": "python",
   "nbconvert_exporter": "python",
   "pygments_lexer": "ipython3",
   "version": "3.6.8"
  }
 },
 "nbformat": 4,
 "nbformat_minor": 2
}
