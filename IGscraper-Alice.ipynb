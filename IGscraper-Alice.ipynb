{
 "cells": [
  {
   "cell_type": "code",
   "execution_count": 2,
   "metadata": {
    "collapsed": false
   },
   "outputs": [
    {
     "name": "stderr",
     "output_type": "stream",
     "text": [
      "C:\\Users\\cxdeng\\Anaconda3\\lib\\site-packages\\win_unicode_console\\__init__.py:31: RuntimeWarning: sys.stdin.encoding == 'cp1252', whereas sys.stdout.encoding == 'UTF-8', readline hook consumer may assume they are the same\n",
      "  readline_hook.enable(use_pyreadline=use_pyreadline)\n"
     ]
    }
   ],
   "source": [
    "import instaloader\n",
    "from instaloader import *"
   ]
  },
  {
   "cell_type": "code",
   "execution_count": 3,
   "metadata": {
    "collapsed": true
   },
   "outputs": [],
   "source": [
    "L = instaloader.Instaloader()"
   ]
  },
  {
   "cell_type": "code",
   "execution_count": 4,
   "metadata": {
    "collapsed": true
   },
   "outputs": [],
   "source": [
    "L.login('aliceedeng','B7LCG7YU')"
   ]
  },
  {
   "cell_type": "code",
   "execution_count": 5,
   "metadata": {
    "collapsed": true
   },
   "outputs": [],
   "source": [
    "me = Profile.from_username(L.context, 'aliceedeng')"
   ]
  },
  {
   "cell_type": "code",
   "execution_count": null,
   "metadata": {
    "collapsed": false,
    "scrolled": true
   },
   "outputs": [
    {
     "name": "stdout",
     "output_type": "stream",
     "text": [
      "\n",
      "Too many queries in the last time. Need to wait 610 seconds, until 11:11.\n",
      "\n",
      "Too many queries in the last time. Need to wait 611 seconds, until 11:22.\n",
      "\n",
      "Too many queries in the last time. Need to wait 598 seconds, until 11:33.\n",
      "\n",
      "Too many queries in the last time. Need to wait 12 seconds, until 11:34.\n",
      "\n",
      "Too many queries in the last time. Need to wait 591 seconds, until 11:44.\n",
      "\n",
      "Too many queries in the last time. Need to wait 598 seconds, until 11:56.\n",
      "\n",
      "Too many queries in the last time. Need to wait 600 seconds, until 12:07.\n",
      "\n",
      "Too many queries in the last time. Need to wait 610 seconds, until 12:18.\n",
      "\n",
      "Too many queries in the last time. Need to wait 13 seconds, until 12:18.\n",
      "\n",
      "Too many queries in the last time. Need to wait 602 seconds, until 12:29.\n",
      "\n",
      "Too many queries in the last time. Need to wait 15 seconds, until 12:29.\n",
      "\n",
      "Too many queries in the last time. Need to wait 600 seconds, until 12:40.\n",
      "\n",
      "Too many queries in the last time. Need to wait 15 seconds, until 12:40.\n",
      "\n",
      "Too many queries in the last time. Need to wait 605 seconds, until 12:51.\n",
      "\n",
      "Too many queries in the last time. Need to wait 16 seconds, until 12:52.\n"
     ]
    },
    {
     "name": "stderr",
     "output_type": "stream",
     "text": [
      "JSON Query to graphql/query: ('Connection broken: OSError(\"(10053, \\'WSAECONNABORTED\\')\",)', OSError(\"(10053, 'WSAECONNABORTED')\",)) [retrying; skip with ^C]\n"
     ]
    },
    {
     "name": "stdout",
     "output_type": "stream",
     "text": [
      "\n",
      "Too many queries in the last time. Need to wait 599 seconds, until 13:02.\n",
      "\n",
      "Too many queries in the last time. Need to wait 597 seconds, until 13:13.\n",
      "\n",
      "Too many queries in the last time. Need to wait 597 seconds, until 13:24.\n",
      "\n",
      "Too many queries in the last time. Need to wait 594 seconds, until 13:35.\n",
      "\n",
      "Too many queries in the last time. Need to wait 594 seconds, until 13:47.\n",
      "\n",
      "Too many queries in the last time. Need to wait 14 seconds, until 13:47.\n",
      "\n",
      "Too many queries in the last time. Need to wait 604 seconds, until 13:58.\n",
      "\n",
      "Too many queries in the last time. Need to wait 604 seconds, until 14:09.\n",
      "\n",
      "Too many queries in the last time. Need to wait 603 seconds, until 14:20.\n",
      "\n",
      "Too many queries in the last time. Need to wait 601 seconds, until 14:31.\n",
      "\n",
      "Too many queries in the last time. Need to wait 603 seconds, until 14:42.\n",
      "\n",
      "Too many queries in the last time. Need to wait 11 seconds, until 14:42.\n",
      "\n",
      "Too many queries in the last time. Need to wait 598 seconds, until 14:53.\n",
      "\n",
      "Too many queries in the last time. Need to wait 604 seconds, until 15:04.\n",
      "\n",
      "Too many queries in the last time. Need to wait 591 seconds, until 15:15.\n",
      "\n",
      "Too many queries in the last time. Need to wait 588 seconds, until 15:26.\n",
      "\n",
      "Too many queries in the last time. Need to wait 590 seconds, until 15:38.\n",
      "\n",
      "Too many queries in the last time. Need to wait 12 seconds, until 15:38.\n",
      "\n",
      "Too many queries in the last time. Need to wait 588 seconds, until 15:49.\n",
      "\n",
      "Too many queries in the last time. Need to wait 593 seconds, until 16:00.\n",
      "\n",
      "Too many queries in the last time. Need to wait 13 seconds, until 16:01.\n",
      "\n",
      "Too many queries in the last time. Need to wait 594 seconds, until 16:11.\n",
      "\n",
      "Too many queries in the last time. Need to wait 13 seconds, until 16:12.\n",
      "\n",
      "Too many queries in the last time. Need to wait 590 seconds, until 16:22.\n",
      "\n",
      "Too many queries in the last time. Need to wait 11 seconds, until 16:23.\n",
      "\n",
      "Too many queries in the last time. Need to wait 590 seconds, until 16:33.\n",
      "\n",
      "Too many queries in the last time. Need to wait 589 seconds, until 16:44.\n",
      "\n",
      "Too many queries in the last time. Need to wait 12 seconds, until 16:45.\n",
      "\n",
      "Too many queries in the last time. Need to wait 11 seconds, until 16:45.\n",
      "\n",
      "Too many queries in the last time. Need to wait 594 seconds, until 16:55.\n",
      "\n",
      "Too many queries in the last time. Need to wait 15 seconds, until 16:56.\n",
      "\n",
      "Too many queries in the last time. Need to wait 593 seconds, until 17:06.\n",
      "\n",
      "Too many queries in the last time. Need to wait 14 seconds, until 17:07.\n",
      "\n",
      "Too many queries in the last time. Need to wait 11 seconds, until 17:07.\n",
      "\n",
      "Too many queries in the last time. Need to wait 589 seconds, until 17:17.\n",
      "\n",
      "Too many queries in the last time. Need to wait 15 seconds, until 17:18.\n",
      "\n",
      "Too many queries in the last time. Need to wait 14 seconds, until 17:18.\n",
      "\n",
      "Too many queries in the last time. Need to wait 588 seconds, until 17:29.\n",
      "\n",
      "Too many queries in the last time. Need to wait 19 seconds, until 17:29.\n",
      "\n",
      "Too many queries in the last time. Need to wait 11 seconds, until 17:30.\n",
      "\n",
      "Too many queries in the last time. Need to wait 588 seconds, until 17:40.\n",
      "\n",
      "Too many queries in the last time. Need to wait 619 seconds, until 19:12.\n",
      "\n",
      "Too many queries in the last time. Need to wait 611 seconds, until 19:23.\n",
      "\n",
      "Too many queries in the last time. Need to wait 610 seconds, until 19:34.\n"
     ]
    },
    {
     "name": "stderr",
     "output_type": "stream",
     "text": [
      "JSON Query to graphql/query: HTTP error code 502. [retrying; skip with ^C]\n"
     ]
    },
    {
     "name": "stdout",
     "output_type": "stream",
     "text": [
      "\n",
      "Too many queries in the last time. Need to wait 602 seconds, until 19:45.\n",
      "\n",
      "Too many queries in the last time. Need to wait 612 seconds, until 20:30.\n",
      "\n",
      "Too many queries in the last time. Need to wait 612 seconds, until 20:41.\n",
      "\n",
      "Too many queries in the last time. Need to wait 615 seconds, until 20:52.\n",
      "\n",
      "Too many queries in the last time. Need to wait 614 seconds, until 21:03.\n",
      "\n",
      "Too many queries in the last time. Need to wait 612 seconds, until 21:14.\n",
      "\n",
      "Too many queries in the last time. Need to wait 612 seconds, until 21:25.\n",
      "\n",
      "Too many queries in the last time. Need to wait 615 seconds, until 21:36.\n",
      "\n",
      "Too many queries in the last time. Need to wait 615 seconds, until 21:47.\n",
      "\n",
      "Too many queries in the last time. Need to wait 614 seconds, until 21:59.\n",
      "\n",
      "Too many queries in the last time. Need to wait 610 seconds, until 22:10.\n",
      "\n",
      "Too many queries in the last time. Need to wait 618 seconds, until 22:21.\n",
      "\n",
      "Too many queries in the last time. Need to wait 621 seconds, until 22:38.\n",
      "\n",
      "Too many queries in the last time. Need to wait 607 seconds, until 22:49.\n",
      "\n",
      "Too many queries in the last time. Need to wait 602 seconds, until 23:00.\n",
      "\n",
      "Too many queries in the last time. Need to wait 602 seconds, until 23:11.\n",
      "\n",
      "Too many queries in the last time. Need to wait 606 seconds, until 23:22.\n",
      "\n",
      "Too many queries in the last time. Need to wait 604 seconds, until 23:33.\n",
      "\n",
      "Too many queries in the last time. Need to wait 608 seconds, until 23:45.\n",
      "\n",
      "Too many queries in the last time. Need to wait 612 seconds, until 23:56.\n",
      "\n",
      "Too many queries in the last time. Need to wait 587 seconds, until 00:07.\n",
      "\n",
      "Too many queries in the last time. Need to wait 592 seconds, until 00:18.\n"
     ]
    }
   ],
   "source": [
    "count = 0\n",
    "folls = me.get_followees()\n",
    "for name in folls:\n",
    "    #count += name.mediacount\n",
    "    #if count < 27976:\n",
    "    #    print(count)\n",
    "    #    continue\n",
    "    for post in name.get_posts():\n",
    "        save_structure_to_file(post, 'Posts/' + str(post.mediaid) + '.json')"
   ]
  },
  {
   "cell_type": "code",
   "execution_count": 7,
   "metadata": {
    "collapsed": false
   },
   "outputs": [
    {
     "data": {
      "text/plain": [
       "116"
      ]
     },
     "execution_count": 7,
     "metadata": {},
     "output_type": "execute_result"
    }
   ],
   "source": [
    "profile = Profile.from_username(L.context, 'sabrinafacey')\n",
    "num = profile.mediacount\n",
    "num"
   ]
  },
  {
   "cell_type": "code",
   "execution_count": 9,
   "metadata": {
    "collapsed": true
   },
   "outputs": [],
   "source": [
    "profile2 = Profile.from_username(L.context, 'clairee_deng')"
   ]
  },
  {
   "cell_type": "code",
   "execution_count": 11,
   "metadata": {
    "collapsed": false
   },
   "outputs": [
    {
     "data": {
      "text/plain": [
       "1344"
      ]
     },
     "execution_count": 11,
     "metadata": {},
     "output_type": "execute_result"
    }
   ],
   "source": [
    "profile2.followers"
   ]
  },
  {
   "cell_type": "code",
   "execution_count": 16,
   "metadata": {
    "collapsed": false
   },
   "outputs": [
    {
     "ename": "FileNotFoundError",
     "evalue": "[Errno 2] No such file or directory: 'Posts/2016911860871631423.json'",
     "output_type": "error",
     "traceback": [
      "\u001b[0;31m---------------------------------------------------------------------------\u001b[0m",
      "\u001b[0;31mFileNotFoundError\u001b[0m                         Traceback (most recent call last)",
      "\u001b[0;32m<ipython-input-16-807e6aaf3ba1>\u001b[0m in \u001b[0;36m<module>\u001b[0;34m()\u001b[0m\n\u001b[1;32m      2\u001b[0m \u001b[1;32mfor\u001b[0m \u001b[0mpost\u001b[0m \u001b[1;32min\u001b[0m \u001b[0mprofile\u001b[0m\u001b[1;33m.\u001b[0m\u001b[0mget_posts\u001b[0m\u001b[1;33m(\u001b[0m\u001b[1;33m)\u001b[0m\u001b[1;33m:\u001b[0m\u001b[1;33m\u001b[0m\u001b[0m\n\u001b[1;32m      3\u001b[0m     \u001b[0mcount\u001b[0m \u001b[1;33m+=\u001b[0m \u001b[1;36m1\u001b[0m\u001b[1;33m\u001b[0m\u001b[0m\n\u001b[0;32m----> 4\u001b[0;31m     \u001b[0msave_structure_to_file\u001b[0m\u001b[1;33m(\u001b[0m\u001b[0mpost\u001b[0m\u001b[1;33m,\u001b[0m \u001b[1;34m'Posts/'\u001b[0m \u001b[1;33m+\u001b[0m \u001b[0mstr\u001b[0m\u001b[1;33m(\u001b[0m\u001b[0mpost\u001b[0m\u001b[1;33m.\u001b[0m\u001b[0mmediaid\u001b[0m\u001b[1;33m)\u001b[0m \u001b[1;33m+\u001b[0m \u001b[1;34m'.json'\u001b[0m\u001b[1;33m)\u001b[0m\u001b[1;33m\u001b[0m\u001b[0m\n\u001b[0m\u001b[1;32m      5\u001b[0m     \u001b[1;31m#if count < 5:\u001b[0m\u001b[1;33m\u001b[0m\u001b[1;33m\u001b[0m\u001b[0m\n\u001b[1;32m      6\u001b[0m \u001b[1;33m\u001b[0m\u001b[0m\n",
      "\u001b[0;32mC:\\Users\\cxdeng\\Anaconda3\\lib\\site-packages\\instaloader\\structures.py\u001b[0m in \u001b[0;36msave_structure_to_file\u001b[0;34m(structure, filename)\u001b[0m\n\u001b[1;32m   1023\u001b[0m             \u001b[0mjson\u001b[0m\u001b[1;33m.\u001b[0m\u001b[0mdump\u001b[0m\u001b[1;33m(\u001b[0m\u001b[0mjson_structure\u001b[0m\u001b[1;33m,\u001b[0m \u001b[0mfp\u001b[0m\u001b[1;33m=\u001b[0m\u001b[0mfp\u001b[0m\u001b[1;33m,\u001b[0m \u001b[0mseparators\u001b[0m\u001b[1;33m=\u001b[0m\u001b[1;33m(\u001b[0m\u001b[1;34m','\u001b[0m\u001b[1;33m,\u001b[0m \u001b[1;34m':'\u001b[0m\u001b[1;33m)\u001b[0m\u001b[1;33m)\u001b[0m\u001b[1;33m\u001b[0m\u001b[0m\n\u001b[1;32m   1024\u001b[0m     \u001b[1;32melse\u001b[0m\u001b[1;33m:\u001b[0m\u001b[1;33m\u001b[0m\u001b[0m\n\u001b[0;32m-> 1025\u001b[0;31m         \u001b[1;32mwith\u001b[0m \u001b[0mopen\u001b[0m\u001b[1;33m(\u001b[0m\u001b[0mfilename\u001b[0m\u001b[1;33m,\u001b[0m \u001b[1;34m'wt'\u001b[0m\u001b[1;33m)\u001b[0m \u001b[1;32mas\u001b[0m \u001b[0mfp\u001b[0m\u001b[1;33m:\u001b[0m\u001b[1;33m\u001b[0m\u001b[0m\n\u001b[0m\u001b[1;32m   1026\u001b[0m             \u001b[0mjson\u001b[0m\u001b[1;33m.\u001b[0m\u001b[0mdump\u001b[0m\u001b[1;33m(\u001b[0m\u001b[0mjson_structure\u001b[0m\u001b[1;33m,\u001b[0m \u001b[0mfp\u001b[0m\u001b[1;33m=\u001b[0m\u001b[0mfp\u001b[0m\u001b[1;33m,\u001b[0m \u001b[0mindent\u001b[0m\u001b[1;33m=\u001b[0m\u001b[1;36m4\u001b[0m\u001b[1;33m,\u001b[0m \u001b[0msort_keys\u001b[0m\u001b[1;33m=\u001b[0m\u001b[1;32mTrue\u001b[0m\u001b[1;33m)\u001b[0m\u001b[1;33m\u001b[0m\u001b[0m\n\u001b[1;32m   1027\u001b[0m \u001b[1;33m\u001b[0m\u001b[0m\n",
      "\u001b[0;31mFileNotFoundError\u001b[0m: [Errno 2] No such file or directory: 'Posts/2016911860871631423.json'"
     ]
    }
   ],
   "source": [
    "count = 0\n",
    "for post in profile.get_posts():\n",
    "    count += 1\n",
    "    save_structure_to_file(post, 'Posts/' + str(post.mediaid) + '.json')\n",
    "    #if count < 5:\n",
    "        "
   ]
  },
  {
   "cell_type": "code",
   "execution_count": 18,
   "metadata": {
    "collapsed": false
   },
   "outputs": [
    {
     "name": "stdout",
     "output_type": "stream",
     "text": [
      "Creation of the directory Posts failed\n"
     ]
    }
   ],
   "source": [
    "import os\n",
    "\n",
    "# define the name of the directory to be created\n",
    "path = \"Posts\"\n",
    "\n",
    "try:  \n",
    "    os.mkdir(path)\n",
    "except OSError:  \n",
    "    print (\"Creation of the directory %s failed\" % path)\n",
    "else:  \n",
    "    print (\"Successfully created the directory %s \" % path)"
   ]
  },
  {
   "cell_type": "code",
   "execution_count": null,
   "metadata": {
    "collapsed": true
   },
   "outputs": [],
   "source": []
  }
 ],
 "metadata": {
  "kernelspec": {
   "display_name": "Python 3",
   "language": "python",
   "name": "python3"
  },
  "language_info": {
   "codemirror_mode": {
    "name": "ipython",
    "version": 3
   },
   "file_extension": ".py",
   "mimetype": "text/x-python",
   "name": "python",
   "nbconvert_exporter": "python",
   "pygments_lexer": "ipython3",
   "version": "3.6.0"
  }
 },
 "nbformat": 4,
 "nbformat_minor": 2
}
