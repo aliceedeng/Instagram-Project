{
 "cells": [
  {
   "cell_type": "code",
   "execution_count": 15,
   "metadata": {
    "collapsed": true
   },
   "outputs": [],
   "source": [
    "import cv2\n",
    "import numpy as np\n",
    "import matplotlib.pyplot as plt\n",
    "from sklearn.cluster import KMeans\n",
    "import urllib\n",
    "import instaloader\n",
    "from instaloader import *\n",
    "from skimage import io\n",
    "import os\n",
    "from PIL import *\n",
    "import requests\n",
    "from io import BytesIO\n",
    "import PIL.ImageStat\n",
    "import pickle "
   ]
  },
  {
   "cell_type": "code",
   "execution_count": 17,
   "metadata": {
    "collapsed": true
   },
   "outputs": [],
   "source": [
    "L = instaloader.Instaloader()"
   ]
  },
  {
   "cell_type": "code",
   "execution_count": 18,
   "metadata": {
    "collapsed": true
   },
   "outputs": [],
   "source": [
    "newp = os.listdir('PostsNew')"
   ]
  },
  {
   "cell_type": "code",
   "execution_count": 4,
   "metadata": {},
   "outputs": [
    {
     "data": {
      "text/plain": [
       "13370"
      ]
     },
     "execution_count": 4,
     "metadata": {},
     "output_type": "execute_result"
    }
   ],
   "source": [
    "len(newp)"
   ]
  },
  {
   "cell_type": "code",
   "execution_count": 19,
   "metadata": {
    "collapsed": true
   },
   "outputs": [],
   "source": [
    "favorite = pickle.load( open( \"save_objectDetect.p\", \"rb\" ) )"
   ]
  },
  {
   "cell_type": "code",
   "execution_count": 20,
   "metadata": {
    "collapsed": true
   },
   "outputs": [],
   "source": [
    "#Try this for initial binary classification, then try multi label (+- 1 standard dev)\n",
    "folls1 = []\n",
    "folls2 = []\n",
    "folls3 = []\n",
    "folls4 = []\n",
    "folls0 = []\n",
    "folls5 = []\n",
    "for pot in newp:    \n",
    "    post = load_structure_from_file(L.context, \"PostsNew/\" + str(pot) + \"\")\n",
    "    folls = post.owner_profile.followers\n",
    "    likes = post.likes\n",
    "    ratio = likes/ folls\n",
    "    if folls < 800:\n",
    "        folls0.append(ratio)\n",
    "    if folls >=800 and folls < 1400:\n",
    "        folls1.append(ratio)\n",
    "    if folls >= 1400 and folls < 1900:\n",
    "        folls2.append(ratio)\n",
    "    if folls >= 1900 and folls < 2700:\n",
    "        folls3.append(ratio)\n",
    "    if folls >= 2700 and folls < 4500:\n",
    "        folls4.append(ratio)\n",
    "    if folls >= 4500:\n",
    "        folls5.append(ratio)\n",
    "    "
   ]
  },
  {
   "cell_type": "code",
   "execution_count": 116,
   "metadata": {
    "collapsed": true
   },
   "outputs": [],
   "source": [
    "\n",
    "# print(len(folls1), np.average(folls1))\n",
    "# x = range(len(folls1))\n",
    "# plt.plot(x,folls1, 'ro')\n",
    "# plt.show()"
   ]
  },
  {
   "cell_type": "code",
   "execution_count": 21,
   "metadata": {
    "collapsed": true
   },
   "outputs": [],
   "source": [
    "tier0 = np.average(folls0)\n",
    "tier1 = np.average(folls1)\n",
    "tier2 = np.average(folls2)\n",
    "tier3 = np.average(folls3)\n",
    "tier4 = np.average(folls4)\n",
    "tier5 = np.average(folls5)"
   ]
  },
  {
   "cell_type": "code",
   "execution_count": 22,
   "metadata": {
    "collapsed": true
   },
   "outputs": [],
   "source": [
    "tot_dict = {}\n",
    "for pot in favorite:\n",
    "    dictt = {}\n",
    "    post = load_structure_from_file(L.context, \"PostsNew/\" + str(pot) + \".json\")\n",
    "    likes = post.likes\n",
    "    ratio = likes/ folls\n",
    "    folls = post.owner_profile.followers\n",
    "    if folls < 800:\n",
    "        tier = tier0\n",
    "        dictt['vec1'] = 1\n",
    "        dictt['vec2'] = 0\n",
    "        dictt['vec3'] = 0\n",
    "        dictt['vec4'] = 0\n",
    "        dictt['vec5'] = 0\n",
    "        dictt['vec6'] = 0\n",
    "    if folls >=800 and folls < 1400:\n",
    "        tier = tier1\n",
    "        dictt['vec1'] = 0\n",
    "        dictt['vec2'] = 1\n",
    "        dictt['vec3'] = 0\n",
    "        dictt['vec4'] = 0\n",
    "        dictt['vec5'] = 0\n",
    "        dictt['vec6'] = 0\n",
    "    if folls >= 1400 and folls < 1900:\n",
    "        tier = tier2\n",
    "        dictt['vec1'] = 0\n",
    "        dictt['vec2'] = 0\n",
    "        dictt['vec3'] = 1\n",
    "        dictt['vec4'] = 0\n",
    "        dictt['vec5'] = 0\n",
    "        dictt['vec6'] = 0\n",
    "    if folls >= 1900 and folls < 2700:\n",
    "        tier = tier3\n",
    "        dictt['vec1'] = 0\n",
    "        dictt['vec2'] = 0\n",
    "        dictt['vec3'] = 0\n",
    "        dictt['vec4'] = 1\n",
    "        dictt['vec5'] = 0\n",
    "        dictt['vec6'] = 0\n",
    "    if folls >= 2700 and folls < 4500:\n",
    "        tier = tier4\n",
    "        dictt['vec1'] = 0\n",
    "        dictt['vec2'] = 0\n",
    "        dictt['vec3'] = 0\n",
    "        dictt['vec4'] = 0\n",
    "        dictt['vec5'] = 1\n",
    "        dictt['vec6'] = 0\n",
    "    if folls >= 4500:\n",
    "        tier = tier5\n",
    "        dictt['vec1'] = 0\n",
    "        dictt['vec2'] = 0\n",
    "        dictt['vec3'] = 0\n",
    "        dictt['vec4'] = 0\n",
    "        dictt['vec5'] = 0\n",
    "        dictt['vec6'] = 1\n",
    "    if ratio > tier:\n",
    "        dictt['label'] = 1\n",
    "    else:\n",
    "        dictt['label'] = 0\n",
    "    tot_dict[pot] = dictt"
   ]
  },
  {
   "cell_type": "code",
   "execution_count": 24,
   "metadata": {
    "collapsed": true
   },
   "outputs": [],
   "source": [
    "pickle.dump( tot_dict, open( \"save_labels2.p\", \"wb\" ) )"
   ]
  },
  {
   "cell_type": "code",
   "execution_count": 11,
   "metadata": {
    "collapsed": true
   },
   "outputs": [],
   "source": [
    "tot_dict = {}\n",
    "count = 0\n",
    "for pot in favorite:\n",
    "    dictt = {}\n",
    "    post = load_structure_from_file(L.context, \"PostsNew/\" + str(pot) + \".json\")\n",
    "    try:\n",
    "        #dictt['numTag'] = len(post.tagged_users)\n",
    "        dictt['numHash'] = len(post.caption_hashtags)\n",
    "        dictt['capMen'] = len(post.caption_mentions)\n",
    "        dictt['capLen'] = len(post.caption)\n",
    "        dictt['weekday'] = post.date.weekday()\n",
    "        dictt['hour'] = post.date.hour\n",
    "        tot_dict[pot] = dictt\n",
    "    except:\n",
    "        continue\n",
    "    count += 1"
   ]
  },
  {
   "cell_type": "code",
   "execution_count": 13,
   "metadata": {},
   "outputs": [
    {
     "data": {
      "text/plain": [
       "3294"
      ]
     },
     "execution_count": 13,
     "metadata": {},
     "output_type": "execute_result"
    }
   ],
   "source": [
    "len(tot_dict)"
   ]
  },
  {
   "cell_type": "code",
   "execution_count": 14,
   "metadata": {
    "collapsed": true
   },
   "outputs": [],
   "source": [
    "pickle.dump( tot_dict, open( \"save_meta.p\", \"wb\" ) )"
   ]
  },
  {
   "cell_type": "code",
   "execution_count": null,
   "metadata": {
    "collapsed": true
   },
   "outputs": [],
   "source": []
  }
 ],
 "metadata": {
  "kernelspec": {
   "display_name": "Python 3",
   "language": "python",
   "name": "python3"
  },
  "language_info": {
   "codemirror_mode": {
    "name": "ipython",
    "version": 3
   },
   "file_extension": ".py",
   "mimetype": "text/x-python",
   "name": "python",
   "nbconvert_exporter": "python",
   "pygments_lexer": "ipython3",
   "version": "3.6.8"
  }
 },
 "nbformat": 4,
 "nbformat_minor": 2
}
